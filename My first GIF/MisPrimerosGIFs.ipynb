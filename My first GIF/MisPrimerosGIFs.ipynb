{
  "nbformat": 4,
  "nbformat_minor": 0,
  "metadata": {
    "colab": {
      "provenance": []
    },
    "kernelspec": {
      "name": "python3",
      "display_name": "Python 3"
    },
    "language_info": {
      "name": "python"
    }
  },
  "cells": [
    {
      "cell_type": "markdown",
      "source": [
        "# **PRIMER GIF: montaña rusa**"
      ],
      "metadata": {
        "id": "K7avKtV73QTH"
      }
    },
    {
      "cell_type": "code",
      "source": [
        "import matplotlib.pyplot as plt\n",
        "import numpy as np\n",
        "import os\n",
        "import imageio.v2 as imageio\n",
        "\n",
        "n = 200\n",
        "pi = np.pi # Creé un pi, que es medio periodo de la función seno\n",
        "x = np.arange(0, 2*pi, 0.001) # Por lo anterior, aquí pongo 2pi\n",
        "y = np.sin(x)\n",
        "\n",
        "# Haciendo las imágenes\n",
        "for valor in range(7):\n",
        "    plt.title(\"¡Montaña rusa!\")\n",
        "    plt.plot(x, y, color='rebeccapurple', alpha=1.0) # ¡Busqué en matplotlib.org colores más lindos!\n",
        "    bolita = plt.plot(valor, np.sin(valor), color='darkcyan', marker='s')\n",
        "    plt.fill_between(x,y, -1, color='rebeccapurple', alpha=0.1) # Esto es para llenar el área bajo la curva. No influye en nada realmente,\n",
        "                                                                # solo lo puse porque quería que se viera más bonito\n",
        "    plt.savefig(f'GIF1_{valor}.png')\n",
        "    plt.close()\n",
        "\n",
        "\n",
        "# Haciendo el gif\n",
        "filenames = []\n",
        "\n",
        "with imageio.get_writer('GIF1.gif', mode='I') as writer:\n",
        "    for i in range(7):\n",
        "        filenames.append(f'GIF1_{i}.png')\n",
        "\n",
        "    for filename in filenames:\n",
        "        image = imageio.imread(filename)\n",
        "        writer.append_data(image)"
      ],
      "metadata": {
        "id": "McPwF6cktuNw"
      },
      "execution_count": 1,
      "outputs": []
    },
    {
      "cell_type": "markdown",
      "source": [
        "# **SEGUNDO GIF: CIEE**"
      ],
      "metadata": {
        "id": "GpX01NvZ3hxS"
      }
    },
    {
      "cell_type": "code",
      "source": [
        "import matplotlib.pyplot as plt\n",
        "import numpy as np\n",
        "import os\n",
        "import imageio.v2 as imageio\n",
        "\n",
        "filas = np.arange(0, 22, 2)\n",
        "columnas = np.arange(0, 22, 2)\n",
        "\n",
        "X, Y = np.meshgrid(columnas, filas)\n",
        "plt.scatter(X,Y, c='white')\n",
        "\n",
        "# Para hacer la 'C'\n",
        "def C():\n",
        "    plt.scatter(X,Y, c='white') # Para \"reiniciar\" lo pintado de amarillo de la letra anterior\n",
        "    plt.title(\"Centro de estudios de E3T (CIEE)\")\n",
        "    for valor in range(0,21,2):\n",
        "        if (valor == 0) or (valor == 2) or (valor == 18) or (valor == 20):\n",
        "            plt.scatter([0,2,4,6,8,10,12,14,16,18,20], np.ones(11)*valor, color='navy')\n",
        "        else:\n",
        "            plt.scatter([0,2], np.ones(2)*valor, color='navy')\n",
        "    plt.savefig(f'GIF2_1.png')\n",
        "    plt.close()\n",
        "\n",
        "# Para hacer la 'I'\n",
        "def I():\n",
        "    plt.scatter(X,Y, c='white')\n",
        "    plt.title(\"Centro de estudios de E3T (CIEE)\")\n",
        "    for valor in range(0,21,2):\n",
        "        if (valor == 0) or (valor == 2) or (valor == 18) or (valor == 20):\n",
        "            plt.scatter([0,2,4,6,8,10,12,14,16,18,20], np.ones(11)*valor, color='goldenrod')\n",
        "        else:\n",
        "            plt.scatter([8,10,12], np.ones(3)*valor, color='goldenrod')\n",
        "    plt.savefig(f'GIF2_2.png')\n",
        "    plt.close()\n",
        "\n",
        "# Para hacer la 'E'\n",
        "def E_1():\n",
        "    plt.scatter(X,Y, c='white')\n",
        "    plt.title(\"Centro de estudios de E3T (CIEE)\")\n",
        "    for valor in range(0,21,2):\n",
        "        if (valor == 0) or (valor == 2) or (valor == 8) or (valor == 10) or (valor == 12) or (valor == 18) or (valor == 20):\n",
        "            plt.scatter([0,2,4,6,8,10,12,14,16,18,20], np.ones(11)*valor, color='navy')\n",
        "        else:\n",
        "            plt.scatter([0,2], np.ones(2)*valor, color='navy')\n",
        "    plt.savefig(f'GIF2_3.png')\n",
        "    plt.close()\n",
        "\n",
        "def E_2():\n",
        "    plt.scatter(X,Y, c='white')\n",
        "    plt.title(\"Centro de estudios de E3T (CIEE)\")\n",
        "    for valor in range(0,21,2):\n",
        "        if (valor == 0) or (valor == 2) or (valor == 8) or (valor == 10) or (valor == 12) or (valor == 18) or (valor == 20):\n",
        "            plt.scatter([0,2,4,6,8,10,12,14,16,18,20], np.ones(11)*valor, color='goldenrod')\n",
        "        else:\n",
        "            plt.scatter([0,2], np.ones(2)*valor, color='goldenrod')\n",
        "    plt.savefig(f'GIF2_4.png')\n",
        "    plt.close()\n",
        "\n",
        "# Haciendo las imágenes\n",
        "C()\n",
        "I()\n",
        "E_1()\n",
        "E_2()\n",
        "\n",
        "# Haciendo el gif\n",
        "filenames = []\n",
        "\n",
        "with imageio.get_writer('GIF2.gif', mode='I', duration=1) as writer: # Solo poner \"duration\" para darle un tiempo a cada foto, no al GIF en sí. Está en segundos.\n",
        "    for i in range(4):\n",
        "        filenames.append(f'GIF2_{i+1}.png')\n",
        "\n",
        "    for filename in filenames:\n",
        "        image = imageio.imread(filename)\n",
        "        writer.append_data(image)"
      ],
      "metadata": {
        "id": "MCcWBcFFyeKi"
      },
      "execution_count": 2,
      "outputs": []
    }
  ]
}