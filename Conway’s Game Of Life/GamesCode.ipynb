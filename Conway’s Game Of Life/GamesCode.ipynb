{
  "nbformat": 4,
  "nbformat_minor": 0,
  "metadata": {
    "colab": {
      "provenance": []
    },
    "kernelspec": {
      "name": "python3",
      "display_name": "Python 3"
    },
    "language_info": {
      "name": "python"
    }
  },
  "cells": [
    {
      "cell_type": "code",
      "execution_count": 14,
      "metadata": {
        "colab": {
          "base_uri": "https://localhost:8080/",
          "height": 433
        },
        "id": "UQlc-A5NELRK",
        "outputId": "45d9b27a-0640-4075-f0fe-44665bfe9598"
      },
      "outputs": [
        {
          "output_type": "display_data",
          "data": {
            "text/plain": [
              "<Figure size 640x480 with 1 Axes>"
            ],
            "image/png": "[encoded data removed]"
          },
          "metadata": {}
        }
      ],
      "source": [
        "import matplotlib.pyplot as plt\n",
        "import numpy as np\n",
        "\n",
        "n = 100\n",
        "tablero=np.zeros([n,n], dtype=int)\n",
        "x = np.random.randint(0, n, size=100)\n",
        "y = np.random.randint(0, n, size=100)\n",
        "tablero[x,y] = 1\n",
        "\n",
        "for ite in range(20):\n",
        "  plt.imshow(tablero)\n",
        "  tempTablero = tablero.copy()\n",
        "  for i in range(1, n-1):\n",
        "    for j in range(1, n-1):\n",
        "      suma = np.sum(tablero[i-1:i+2, j-1:j+2])-tablero[i,j]\n",
        "\n",
        "      if (suma > 3):\n",
        "        tempTablero[i,j] = 0\n",
        "\n",
        "      elif tempTablero[i,j] == 1 and (suma == 2 or suma == 3):\n",
        "        pass\n",
        "\n",
        "      elif (suma < 2):\n",
        "        tempTablero[i,j] = 0\n",
        "\n",
        "      elif tempTablero[i,j] == 0 and (suma == 2 or suma == 3):\n",
        "        tempTablero[i,j] = 1\n",
        "\n",
        "  tablero = tempTablero.copy()\n",
        "  plt.savefig(f\"{ite}.png\")"
      ]
    },
    {
      "cell_type": "code",
      "source": [
        "import os\n",
        "import imageio.v2 as imageio\n",
        "\n",
        "filenames=[]\n",
        "\n",
        "with imageio.get_writer('JV.gif',mode='I') as writer:\n",
        "  for i in range(0,20):\n",
        "    filenames.append(f'{i}.png')\n",
        "\n",
        "  for filename in filenames:\n",
        "    image=imageio.imread(filename)\n",
        "    writer.append_data(image)"
      ],
      "metadata": {
        "id": "fptIb-ivIBOj"
      },
      "execution_count": 15,
      "outputs": []
    }
  ]
}